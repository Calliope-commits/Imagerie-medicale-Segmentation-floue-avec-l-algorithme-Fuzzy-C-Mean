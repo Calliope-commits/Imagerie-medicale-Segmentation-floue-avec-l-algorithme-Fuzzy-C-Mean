{
  "cells": [
    {
      "cell_type": "markdown",
      "source": [
        "##Les imports nécessaires\n",
        "\n",
        "Après avoir installer deeplake, il faudra cliquer sur restart runtime et relancer la première cellule, sinon le dataset ne se charge pas."
      ],
      "metadata": {
        "id": "TqACWvqwVC7u"
      }
    },
    {
      "cell_type": "code",
      "execution_count": null,
      "metadata": {
        "id": "qPwvv0NIn8aS"
      },
      "outputs": [],
      "source": [
        "!pip install deeplake"
      ]
    },
    {
      "cell_type": "code",
      "execution_count": null,
      "metadata": {
        "id": "mFoLdb-XZHXv"
      },
      "outputs": [],
      "source": [
        "import sys\n",
        "import numpy as np\n",
        "import cv2\n",
        "import time\n",
        "import skimage.io\n",
        "from scipy.signal import medfilt2d\n",
        "from skimage import metrics \n",
        "from skimage.color import rgb2lab\n",
        "from skimage.color import lab2rgb\n",
        "from skimage.morphology import disk, square, erosion, reconstruction\n",
        "from scipy.io import loadmat\n",
        "from google.colab.patches import cv2_imshow\n"
      ]
    },
    {
      "cell_type": "markdown",
      "source": [
        "###Pour visualiser le dataset"
      ],
      "metadata": {
        "id": "4-gWdGE7VSSq"
      }
    },
    {
      "cell_type": "code",
      "execution_count": null,
      "metadata": {
        "id": "fqP3naBOn-hM"
      },
      "outputs": [],
      "source": [
        "import deeplake\n",
        "ds = deeplake.load(\"hub://activeloop/glas-test\")\n",
        "ds.visualize()"
      ]
    },
    {
      "cell_type": "markdown",
      "source": [
        "## Function de PCA\n"
      ],
      "metadata": {
        "id": "Iyt-WzzfV7SP"
      }
    },
    {
      "cell_type": "code",
      "execution_count": null,
      "metadata": {
        "id": "AcM0eWXvS3bt"
      },
      "outputs": [],
      "source": [
        "def new_pca_color(image, num_channels):\n",
        "    # Convert the image to a floating point array\n",
        "    image = image.astype(np.float32)\n",
        "    \n",
        "    # Reshape the image array to a 2D array of size (num_pixels, num_channels)\n",
        "    num_pixels = image.shape[0] * image.shape[1]\n",
        "    image_2d = image.reshape(num_pixels, image.shape[2])\n",
        "    \n",
        "    # Subtract the mean of each channel from the image array\n",
        "    image_mean = np.mean(image_2d, axis=0)\n",
        "    image_2d = image_2d - image_mean\n",
        "    \n",
        "    # Compute the covariance matrix of the image array\n",
        "    image_cov = np.cov(image_2d.T)\n",
        "    \n",
        "    # Compute the eigenvalues and eigenvectors of the covariance matrix\n",
        "    eigvals, eigvecs = np.linalg.eig(image_cov)\n",
        "    \n",
        "    # Sort the eigenvectors by their corresponding eigenvalues in descending order\n",
        "    eigvals_sorted_indices = np.argsort(eigvals)[::-1]\n",
        "    eigvecs_sorted = eigvecs[:, eigvals_sorted_indices]\n",
        "    \n",
        "    # Select the top num_channels eigenvectors as the basis for the reduced color space\n",
        "    basis = eigvecs_sorted[:, :num_channels]\n",
        "    \n",
        "    # Project the image array onto the reduced color space using the selected basis\n",
        "    image_projected = np.dot(image_2d, basis)\n",
        "    \n",
        "    # Add the mean of each channel back to the projected image\n",
        "    image_projected += image_mean\n",
        "    \n",
        "    # Reshape the projected image back to its original size and format\n",
        "    image_reduced = image_projected.reshape(image.shape[0], image.shape[1], num_channels)\n",
        "    image_reduced = image_reduced.astype(np.uint8)\n",
        "    \n",
        "    return image_reduced"
      ]
    },
    {
      "cell_type": "markdown",
      "source": [
        "##Fonction pour la reconstruction morphologique RGB"
      ],
      "metadata": {
        "id": "qurUsyZXWEO0"
      }
    },
    {
      "cell_type": "code",
      "execution_count": null,
      "metadata": {
        "id": "L39RMcjEA1Lv"
      },
      "outputs": [],
      "source": [
        "def w_ColorRecons_CO(f, radius):\n",
        "    #se = square(radius)\n",
        "    se = square(radius)\n",
        "    if len(f.shape) < 3:\n",
        "        print('Please input a color image!')\n",
        "    else:\n",
        "        # Convert f to double and extract channels\n",
        "        f = np.double(f)\n",
        "        f_r = f[:,:,0]\n",
        "        f_g = f[:,:,1]\n",
        "        f_b = f[:,:,2]\n",
        "        \n",
        "        # Apply PCA and extract channels\n",
        "        f_pca = np.double((new_pca_color(f,3)))\n",
        "        \n",
        "        f1 = f_pca[:,:,0]\n",
        "        f2 = f_pca[:,:,1]\n",
        "        f3 = f_pca[:,:,2]\n",
        "        # Transform data\n",
        "        data1 = f1*10**3 + f2*10 + f3 + f_r*10**-3 + f_g*10**-6 + f_b*10**-9\n",
        "        Max1 = np.max(data1)\n",
        "        data2 = f1*10**3 + f2*10 + f3 + f_g*10**-3 + f_r*10**-6 + f_b*10**-9\n",
        "        Max2 = np.max(data2)\n",
        "        \n",
        "        data3 = f1*10**3 + f2*10 + f3 + f_b*10**-3 + f_r*10**-6 + f_g*10**-9\n",
        "        Max3 = np.max(data3)\n",
        "        \n",
        "        # Process data\n",
        "        imput_data1 = erosion(data1, se)\n",
        "        imput_data2 = erosion(data2, se)\n",
        "        imput_data3 = erosion(data3, se)\n",
        "        \n",
        "        f_rec1 = reconstruction(imput_data1, data1)\n",
        "        f_rec2 = reconstruction(imput_data2, data2)\n",
        "        f_rec3 = reconstruction(imput_data3, data3)\n",
        "        \n",
        "        imput2_data1 = erosion(Max1-f_rec1, se)\n",
        "        imput2_data2 = erosion(Max2-f_rec2, se)\n",
        "        imput2_data3 = erosion(Max3-f_rec3, se)\n",
        "        \n",
        "        f_g1 = Max1 - reconstruction(imput2_data1, Max1-f_rec1)\n",
        "        f_g2 = Max2 - reconstruction(imput2_data2, Max2-f_rec2)\n",
        "        f_g3 = Max3 - reconstruction(imput2_data3, Max3-f_rec3)\n",
        "        \n",
        "    # Return to RGB format\n",
        "    tt1 = f_g1 - np.floor(f_g1)\n",
        "    tt2 = f_g2 - np.floor(f_g2)\n",
        "    tt3 = f_g3 - np.floor(f_g3)\n",
        "    \n",
        "    g1_r = np.floor(tt1*10**3)\n",
        "\n",
        "    g1_g = np.floor(tt2*10**3)\n",
        "    g1_b = np.floor(tt3*10**3)\n",
        "    \n",
        "    output_f = np.dstack((np.uint8(g1_b), np.uint8(g1_g), np.uint8(g1_r)))\n",
        "    return output_f"
      ]
    },
    {
      "cell_type": "markdown",
      "source": [
        "Fonction pour afficher la segmentation après avoir fait le clustering"
      ],
      "metadata": {
        "id": "JppcI2DvWKJX"
      }
    },
    {
      "cell_type": "code",
      "execution_count": null,
      "metadata": {
        "id": "F5CLQEBreij_"
      },
      "outputs": [],
      "source": [
        "def initfcm(cluster_n, row_col):\n",
        "    # Initialize the fuzzy partition matrix (U) with random values\n",
        "    U = np.random.rand(cluster_n, row_col)\n",
        "    # Normalize the rows of U so that they add up to 1\n",
        "    U /= np.sum(U, axis=0)\n",
        "    return U\n",
        "\n",
        "def Label_image(f, L):\n",
        "    # fs is the result of segmentation, center_p is the center pixel of each\n",
        "    # areas\n",
        "    # f is the original image\n",
        "    # L is the segmented image using waterhsed transformation\n",
        "    f = f.astype(float)\n",
        "    num_area = int(L.max()) # The number of segmented areas\n",
        "    center_lab = np.zeros((num_area, 3))\n",
        "    Num_p = np.zeros(num_area)\n",
        "    if f.ndim < 3:\n",
        "        M, N = f.shape\n",
        "        s3 = L\n",
        "        fs = np.zeros((M, N))\n",
        "        center_p = np.zeros((num_area, 1))\n",
        "        for i in range(1, num_area+1):\n",
        "            f2 = f[s3 == i]\n",
        "            f_med = np.median(f2)\n",
        "            fx = (s3 == i) * f_med\n",
        "            fs = fs + fx\n",
        "            center_p[i-1, :] = np.uint8(f_med)\n",
        "            Num_p = np.zeros(num_area)\n",
        "        fs = np.uint8(fs)\n",
        "    else:  # Color image\n",
        "        M, N = f[:, :, 0].shape\n",
        "        s3 = L\n",
        "        fs = np.zeros((M, N, 3))\n",
        "        center_p = np.zeros((num_area, 3))\n",
        "        for i in range(1, num_area+1):\n",
        "            fr2 = f[:, :, 0][s3 == i]\n",
        "            r_med = np.median(fr2)\n",
        "            r = (s3 == i) * r_med\n",
        "            fg2 = f[:, :, 1][s3 == i]\n",
        "            g_med = np.median(fg2)\n",
        "            g = (s3 == i) * g_med\n",
        "            fb2 = f[:, :, 2][s3 == i]\n",
        "            b_med = np.median(fb2)\n",
        "            b = (s3 == i) * b_med\n",
        "            fs = fs + np.stack((r, g, b), axis=2)\n",
        "            center_p[i-1, :] = np.uint8([r_med, g_med, b_med])\n",
        "            Num_p[i-1] = (s3 == i).sum()\n",
        "        fs = np.uint8(fs)\n",
        "    TT = np.stack((center_p[:, 0], center_p[:, 1], center_p[:, 2]), axis=1)\n",
        "    TT2 = rgb2lab(TT)\n",
        "    TT2r = TT2[:, 0]\n",
        "    TT2g = TT2[:,  1]\n",
        "    TT2b = TT2[:,  2]\n",
        "    center_lab[:, 0] = TT2r.flatten()\n",
        "    center_lab[:, 1] = TT2g.flatten()\n",
        "    center_lab[:, 2] = TT2b.flatten()\n",
        "    return fs, center_p, Num_p, center_lab\n",
        "def fcm_image_color(f, U):\n",
        "    m, n = f.shape[:2]\n",
        "    U = U.T\n",
        "    idx_f = np.zeros(m * n)\n",
        "    for i in range(m * n):\n",
        "        x = U[i]\n",
        "        idx = np.where(x == max(x))[0]\n",
        "        idx = idx[0]\n",
        "        idx_f[i] = idx\n",
        "    imput_f = idx_f.reshape((m, n))\n",
        "    #gx = Label_image(f, imput_f)\n",
        "    return imput_f\n",
        "# center[k,:] = sum(mf[:,k].T.dot(data) )/ sum(mf[:,k])"
      ]
    },
    {
      "cell_type": "markdown",
      "source": [
        "##Fonction pour FRFCM"
      ],
      "metadata": {
        "id": "iJYsPAzpWPSv"
      }
    },
    {
      "cell_type": "code",
      "execution_count": null,
      "metadata": {
        "id": "K5G42fnuKDKK"
      },
      "outputs": [],
      "source": [
        "\n",
        "\n",
        "def FRFCM_c(data, cluster_n, radius, w_size, options=None):\n",
        "    # Firstly, we use multivariate morphological reconstruction to reconstruct original image to suppress noise;\n",
        "    # Secondly, we implement FCM;\n",
        "    # Thirdly, we use a median filter to smooth the fuzzy membership U;\n",
        "    # Finally, we normalize U;\n",
        "    # Input variants and parameters\n",
        "    # data is a 3D data, it means that the input is a color image \n",
        "    # cluster_n denotes the number of cluster centers\n",
        "    # radius denotes the parameter of structuring element used in\n",
        "    # mrophological recosntruction\n",
        "    # w_size is the scale of the filtering window \n",
        "    eps = sys.float_info.epsilon\n",
        "    if options is None:\n",
        "        # Change the following to set default options\n",
        "        options = [2,  # exponent for the partition matrix U\n",
        "                   100,  # max. number of iteration\n",
        "                   1e-5,  # min. amount of improvement\n",
        "                   1]  # info display during iteration\n",
        "\n",
        "    # If \"options\" is not fully specified, pad it with default values.\n",
        "    \"\"\"if len(options) < 4:\n",
        "        tmp = [None] * 4\n",
        "        tmp[:len(options)] = options\n",
        "        options = tmp\n",
        "\n",
        "    # If some entries of \"options\" are nan's, replace them with defaults.\n",
        "    nan_index = np.where(np.isnan(options))[0]\n",
        "    options[nan_index] = [2, 100, 1e-5, 0][nan_index]\n",
        "    if options[0] <= 1:\n",
        "        raise ValueError(\"The exponent should be greater than 1!\")\n",
        "    \"\"\"\n",
        "    expo = options[0]  # Exponent for U\n",
        "    max_iter = options[1]  # Max. iteration\n",
        "    min_impro = options[2]  # Min. improvement\n",
        "    display = options[3]  # Display info or not\n",
        "    obj_fcn = np.zeros(max_iter) # Array for objective function\n",
        "    \n",
        "    # step 1, morphological reconstruction\n",
        "    data_rgb = w_ColorRecons_CO(data, radius)  # radius means maximal radius\n",
        "    \n",
        "  \n",
        "    data_lab = rgb2lab(data_rgb)\n",
        "    # step 2, FCM on histogram\n",
        "    data_l = data_lab[:,:,0]\n",
        "    data_a = data_lab[:,:,1]\n",
        "    data_b = data_lab[:,:,2]\n",
        "    data = np.vstack((data_l.flatten(), data_a.flatten(), data_b.flatten())).T\n",
        "    row, col = data_a.shape\n",
        "    U = np.random.rand(row*col, cluster_n)\n",
        "    U /= np.sum(U, axis=0)\n",
        "    Uc = [U]\n",
        "    center = np.zeros((cluster_n,3))\n",
        "    for i in range(max_iter):\n",
        "        # MF matrix after exponential modification\n",
        "        mf = U**expo\n",
        "        \n",
        "        nom = mf.T@data\n",
        "        den = sum(mf)\n",
        "        den = den.reshape((cluster_n, 1))\n",
        "        center= np.divide(nom, den)\n",
        "\n",
        "        center_l = center[:, 0]\n",
        "        center_a = center[:, 1]\n",
        "        center_b = center[:, 2]\n",
        "        center_lab = np.dstack((center_l, center_a, center_b))\n",
        "\n",
        "        rgb_center = 255 * lab2rgb(center_lab)\n",
        "        out = np.zeros((center.shape[0] , data.shape[0]))\n",
        "        if center.shape[1] > 1:\n",
        "            for k in range(center.shape[0]):\n",
        "                out[k, :] = np.sqrt(np.sum((data - np.ones((data.shape[0], 1)) *center[k,:])**2, axis=1))\n",
        "                \n",
        "        else:  # 1-D data\n",
        "            for k in range(center.shape[0]):\n",
        "                out[k, :] = abs(center[k]-data).T\n",
        "        dist = out + eps\n",
        "\n",
        "        \n",
        "\n",
        "\n",
        "        tmp = dist**(-2/(expo-1))\n",
        "\n",
        "        U = tmp /  np.sum((tmp) + np.finfo(float).eps,axis=0)\n",
        "        U = np.transpose(U)\n",
        "\n",
        "        Uc.append(U)\n",
        "        \n",
        "        # objective function\n",
        "        if i > 0:\n",
        "            # if abs(obj_fcn[i] - obj_fcn[i-1])/obj_fcn[i] < min_impro, break\n",
        "            if (np.max(np.max(np.abs(Uc[i]-Uc[i-1])))) < min_impro:\n",
        "                break\n",
        "    \n",
        "\n",
        "    iter_n = i  # Actual number of iterations\n",
        "    #obj_fcn[iter_n+1:max_iter] = []\n",
        "    GG = np.zeros((center.shape[0], row * col))\n",
        "    \n",
        "    for k3 in range(center.shape[0]):\n",
        "        U1 = U[:,k3]\n",
        "        U1 = np.reshape(U1, (row, col))\n",
        "        UU = medfilt2d(U1, [w_size, w_size])\n",
        "\n",
        "        GG[k3,:] = UU.flatten()\n",
        "\n",
        "    U = GG / (np.sum(GG) + eps)\n",
        "    # Normalization\n",
        "    center_l = center[:, 0]\n",
        "    center_a = center[:, 1]\n",
        "    center_b = center[:, 2]\n",
        "    center_lab = np.dstack((center_l, center_a, center_b))\n",
        "\n",
        "    center = 255 * lab2rgb(center_lab)\n",
        "    return [center, U, obj_fcn,iter_n]"
      ]
    },
    {
      "cell_type": "markdown",
      "source": [
        "## Fonction pour calculer les métriques\n",
        "\n",
        "## steps_Fcm_Seg pour automatiser dans le main"
      ],
      "metadata": {
        "id": "XTuo6r5xWsXb"
      }
    },
    {
      "cell_type": "code",
      "execution_count": null,
      "metadata": {
        "id": "XGERZyKlBimm"
      },
      "outputs": [],
      "source": [
        "def my_metrics(segmented, ground_truth):\n",
        "    # Calculate true positive (TP), false positive (FP), and false negative (FN)\n",
        "    TP = np.sum(segmented == ground_truth)\n",
        "    FP = np.sum(np.logical_and(segmented != 0, ground_truth == 0)  )\n",
        "    FN = np.sum(np.logical_and(segmented == 0, ground_truth != 0))\n",
        "    h,w= segmented.shape[0],segmented.shape[1]\n",
        "    S = np.sum(segmented == ground_truth)/(h*w)\n",
        "    # Calculate precision and recall\n",
        "    precision = TP / (TP + FP)\n",
        "    recall = TP / (TP + FN)\n",
        "\n",
        "    # Calculate F1 score\n",
        "    f1_score = 2 * (precision * recall) / (precision + recall)\n",
        "\n",
        "    return np.array([precision, recall, f1_score, S])"
      ]
    },
    {
      "cell_type": "code",
      "execution_count": null,
      "metadata": {
        "id": "WeL2a32RblS3"
      },
      "outputs": [],
      "source": [
        "def steps_fcm_seg(f_ori, cluster, se, w_size):\n",
        "  #f_ori = f_ori.astype(np.uint8) # convert to uint8 to prevent lossy conversion when saving image\n",
        "  if len(f_ori.shape) == 2:\n",
        "    f_ori= cv2.cvtColor(f_ori, cv2.COLOR_GRAY2RGB)\n",
        "  f_ori = f_ori.astype(np.float64)\n",
        "  start = time.time()\n",
        "  center, U1, _, iterations = FRFCM_c(f_ori, cluster, se, w_size)\n",
        "\n",
        "  end = time.time()\n",
        "  print(f'running time is: {end - start}.\\n{iterations} iterations')\n",
        "\n",
        "  f_seg = fcm_image_color(f_ori, U1)\n",
        "  return f_seg, end - start, iterations\n"
      ]
    },
    {
      "cell_type": "markdown",
      "source": [
        "##Main"
      ],
      "metadata": {
        "id": "c7e0KIjIW4Ds"
      }
    },
    {
      "cell_type": "code",
      "execution_count": null,
      "metadata": {
        "id": "bk3lIjAqe7JU"
      },
      "outputs": [],
      "source": [
        "import glob\n",
        "import tensorflow as tf \n",
        "\n",
        "cluster = 2\n",
        "se = 3 # the parameter of structuring element used for morphological reconstruction\n",
        "w_size = 3 #Window size\n",
        "gloabl_metrics= np.zeros((len(ds[\"images\"]),4))\n",
        "global_times= np.zeros((len(ds[\"images\"]),3))\n",
        "\n",
        "for i in range(len(ds[\"images\"])):\n",
        "  cluster = 2\n",
        "  img = tf.constant(ds[\"images\"][i])\n",
        "  img = np.array(img)\n",
        "  cv2_imshow(img)\n",
        "  img1 = tf.constant(ds[\"masks\"][i])\n",
        "  img1 = np.array(img1).astype(np.uint8)\n",
        "  img1[img1 == 1] = 255\n",
        "  cv2_imshow(img1)\n",
        "  f_ori1 = img\n",
        "  #cv2_imshow(f_ori1)\n",
        "  #cv2_imshow(img1)\n",
        "  \n",
        "  max_metrics= np.zeros((4,))\n",
        "\n",
        "  while cluster <= 5:\n",
        "    \n",
        "    print(\"Number of clusters : \",cluster)\n",
        "    ### Segmentation of color image\n",
        "    #f_ori = skimage.io.imread(f'12003.jpg')\n",
        "    \n",
        "    #f_ori1= cv2.cvtColor(f_ori, cv2.COLOR_BGR2RGB)\n",
        "    img,time1,it = steps_fcm_seg(f_ori1, cluster, se, w_size)\n",
        "    img_seg= Label_image(f_ori1,img)[0]\n",
        "    \n",
        "    ####Pour calculer les metriques  enlever ces commentaires\n",
        "    \"\"\"img_seg = cv2.cvtColor(img_seg, cv2.COLOR_BGR2GRAY)\n",
        "    img_seg[img_seg != 0] = 255\n",
        "    my_metrics(img_seg,img1[:,:,0])\n",
        "    metrics = my_metrics(img_seg,img1[:,:,0])\n",
        "    if metrics[2] > max_metrics[2]:\n",
        "      max_metrics = metrics\n",
        "      global_times[i][0] = time1\n",
        "      global_times[i][1] = it\n",
        "      global_times[i][2] = cluster\"\"\"\n",
        "    cv2_imshow(img_seg)\n",
        "    cluster += 1\n",
        "\n",
        "\n",
        "  gloabl_metrics[i] = max_metrics\n"
      ]
    }
  ],
  "metadata": {
    "colab": {
      "provenance": [],
      "collapsed_sections": [
        "TqACWvqwVC7u",
        "4-gWdGE7VSSq",
        "Iyt-WzzfV7SP",
        "qurUsyZXWEO0",
        "iJYsPAzpWPSv",
        "XTuo6r5xWsXb",
        "c7e0KIjIW4Ds"
      ]
    },
    "kernelspec": {
      "display_name": "Python 3",
      "name": "python3"
    },
    "language_info": {
      "name": "python"
    }
  },
  "nbformat": 4,
  "nbformat_minor": 0
}